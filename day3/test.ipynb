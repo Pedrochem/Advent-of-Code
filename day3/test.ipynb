{
 "cells": [
  {
   "cell_type": "code",
   "execution_count": 29,
   "metadata": {},
   "outputs": [
    {
     "name": "stdout",
     "output_type": "stream",
     "text": [
      "3\n"
     ]
    }
   ],
   "source": [
    "a =  \"123\"\n",
    "if len(a) >= 2:\n",
    "    print(a[2])"
   ]
  },
  {
   "cell_type": "code",
   "execution_count": 40,
   "metadata": {},
   "outputs": [
    {
     "name": "stdout",
     "output_type": "stream",
     "text": [
      "617\n",
      "598\n"
     ]
    }
   ],
   "source": [
    "with open(\"input.txt\") as f:\n",
    "    lines = f.readlines()\n",
    "\n",
    "    for line_i,line in enumerate(lines):\n",
    "        i=0\n",
    "        while i < len(line):\n",
    "            ok = False\n",
    "            if line[i].isdigit():\n",
    "\n",
    "                n = line[i]\n",
    "                while(line[i+1].isdigit()):\n",
    "                    i += 1\n",
    "                    n += line[i]\n",
    "                \n",
    "                # check right\n",
    "                if len(line) >= i+1 and not line[i+1].isdigit() and line[i+1] != '.':\n",
    "                    ok = True\n",
    "        \n",
    "                # check left \n",
    "                if i-len(n) != -1 and not line[i-len(n)].isdigit() and line[i-len(n)] != '.':\n",
    "                    ok = True\n",
    "\n",
    "                # check top:\n",
    "                if line_i != 0:\n",
    "                    for j in range(i-len(n)+1,i):\n",
    "                        if not lines[line_i-1][j].isdigit() and lines[line_i-1][j] != '.':\n",
    "                            ok = True\n",
    "                \n",
    "                # check botton:\n",
    "                if line_i != len(lines)-1:\n",
    "                    for j in range(i-len(n)+1,i):\n",
    "                        if not lines[line_i+1][j].isdigit() and lines[line_i+1][j] != '.':\n",
    "                            ok = True             \n",
    "        \n",
    "                if ok:\n",
    "                    results.append(int(n))\n",
    "            i+=1\n",
    "            \n",
    "            "
   ]
  }
 ],
 "metadata": {
  "kernelspec": {
   "display_name": "Python 3",
   "language": "python",
   "name": "python3"
  },
  "language_info": {
   "codemirror_mode": {
    "name": "ipython",
    "version": 3
   },
   "file_extension": ".py",
   "mimetype": "text/x-python",
   "name": "python",
   "nbconvert_exporter": "python",
   "pygments_lexer": "ipython3",
   "version": "3.8.10"
  }
 },
 "nbformat": 4,
 "nbformat_minor": 2
}
